{
  "cells": [
    {
      "cell_type": "code",
      "execution_count": null,
      "metadata": {
        "id": "wLkB0ij9-82G"
      },
      "outputs": [],
      "source": [
        "import numpy as np\n",
        "import pandas as pd\n",
        "import matplotlib.pyplot as plt\n",
        "from sklearn.preprocessing import LabelEncoder\n",
        "from sklearn.cluster import KMeans\n",
        "from sklearn.linear_model import LogisticRegression\n",
        "from sklearn.model_selection import train_test_split\n",
        "from sklearn import metrics "
      ]
    },
    {
      "cell_type": "markdown",
      "metadata": {
        "id": "nLc-CMzWCmHD"
      },
      "source": [
        "# Steps - KNN\n",
        "\n",
        "1.   Assume number of Clusters (here K = 3)\n",
        "2.   Randomly choosing as many centroids for the clusters.\n",
        "3.   Find which cluster each data point belongs to.\n",
        "    -   For KNN distances to be clculated are Euclidian distances, hence we calculate euclidian distances between each data     points and each centroids. \n",
        "    -   To do this efficiently, we can use, numpy, linalg.norm to calculate the Euclidian distance.\n",
        "\n",
        "4.   Calculate the new means of each cluster (new centroid).\n",
        "5.   Repeat the above steps until theer is no movement in centorid or data points. \n"
      ]
    },
    {
      "cell_type": "markdown",
      "metadata": {
        "id": "piw1Cx8Mw_rf"
      },
      "source": [
        "# 1.1 Implementation of KNN from Scratch "
      ]
    },
    {
      "cell_type": "code",
      "execution_count": null,
      "metadata": {
        "id": "mwceHx9-w_rg"
      },
      "outputs": [],
      "source": [
        "col = ['Clump Thickness','Uniformity of Cell Size','Uniformity of Cell Shape','Marginal Adhesion',\n",
        "                            'Single Epithelial Cell Size','Bare Nuclei','Bland Chromatin','Normal Nucleoli','Mitoses']\n",
        "data = pd.read_csv('https://archive.ics.uci.edu/ml/machine-learning-databases/breast-cancer-wisconsin/breast-cancer-wisconsin.data',\n",
        "                   names = ['Sample ID Number', 'Clump Thickness','Uniformity of Cell Size','Uniformity of Cell Shape','Marginal Adhesion',\n",
        "                            'Single Epithelial Cell Size','Bare Nuclei','Bland Chromatin','Normal Nucleoli','Mitoses','Class']\n",
        "                  )"
      ]
    },
    {
      "cell_type": "code",
      "execution_count": null,
      "metadata": {
        "id": "GePUKPQ5w_rh"
      },
      "outputs": [],
      "source": [
        "#Intitalising teh centroids\n",
        "\n",
        "def centroids_init(k, data):\n",
        "    dimensions_n = data.shape[1]                         \n",
        "    centroid_min = data.min().min()          \n",
        "    centroid_max = data.max().max()\n",
        "    centroids = []\n",
        "    for centroid in range(k):\n",
        "        centroid = np.random.uniform(centroid_min, centroid_max, dimensions_n)  \n",
        "        centroids.append(centroid)   \n",
        "    centroids = pd.DataFrame(centroids, columns = data.columns)  \n",
        "    return centroids"
      ]
    },
    {
      "cell_type": "code",
      "execution_count": null,
      "metadata": {
        "id": "9TtK4AKaw_ri"
      },
      "outputs": [],
      "source": [
        "def error_calculation(pt1,pt2):  # finding the eucledian distance\n",
        "    sq_error = np.square(np.sum((pt1-pt2)**2)) \n",
        "    return sq_error "
      ]
    },
    {
      "cell_type": "code",
      "execution_count": null,
      "metadata": {
        "id": "rTRlvhTNg5aI"
      },
      "outputs": [],
      "source": [
        "def centroid_assigning(data, centroids):\n",
        "    n_observe = data.shape[0]\n",
        "    centroid_assign = []\n",
        "    centroid_err = []\n",
        "    k = centroids.shape[0]\n",
        "    for observation in range(n_observe):\n",
        "        errors = np.array([])\n",
        "        for centroid in range(k):\n",
        "            error = error_calculation(centroids.iloc[centroid, :2], data.iloc[observation,:2])\n",
        "            errors = np.append(errors, error)\n",
        "        closest_centroid =  np.where(errors == np.amin(errors))[0].tolist()[0]  \n",
        "        centroid_error = np.amin(errors)\n",
        "        centroid_assign.append(closest_centroid)  \n",
        "        centroid_err.append(centroid_error)\n",
        "    return (centroid_assign, centroid_err)"
      ]
    },
    {
      "cell_type": "code",
      "execution_count": null,
      "metadata": {
        "id": "Y0q3-xxFw_rj"
      },
      "outputs": [],
      "source": [
        "def KNN(data, k):\n",
        "    centroids = centroids_init(k, data)\n",
        "    error_set = []\n",
        "    flag = True\n",
        "    i = 0\n",
        "    while(flag):\n",
        "        data['centroid'], iter_error_set = centroid_assigning(data,centroids)\n",
        "        error_set.append(sum(iter_error_set))\n",
        "        centroids = data.groupby('centroid').agg('mean').reset_index(drop = True)\n",
        "        if(len(error_set)<2):\n",
        "            flag = True\n",
        "        else:\n",
        "            if(round(error_set[i],3) !=  round(error_set[i-1],3)):\n",
        "                flag = True\n",
        "            else:\n",
        "                flag = False\n",
        "        i = i + 1 \n",
        "    data['centroid'], iter_error_set = centroid_assigning(data,centroids)\n",
        "    centroids = data.groupby('centroid').agg('mean').reset_index(drop = True)\n",
        "    return (data['centroid'], iter_error_set, centroids)"
      ]
    },
    {
      "cell_type": "code",
      "execution_count": null,
      "metadata": {
        "id": "m0YfuHQzw_rk",
        "outputId": "7dac0e7b-c7a7-4147-9a27-21ce3c749c7e"
      },
      "outputs": [
        {
          "data": {
            "text/html": [
              "<div>\n",
              "<style scoped>\n",
              "    .dataframe tbody tr th:only-of-type {\n",
              "        vertical-align: middle;\n",
              "    }\n",
              "\n",
              "    .dataframe tbody tr th {\n",
              "        vertical-align: top;\n",
              "    }\n",
              "\n",
              "    .dataframe thead th {\n",
              "        text-align: right;\n",
              "    }\n",
              "</style>\n",
              "<table border=\"1\" class=\"dataframe\">\n",
              "  <thead>\n",
              "    <tr style=\"text-align: right;\">\n",
              "      <th></th>\n",
              "      <th>Sample ID Number</th>\n",
              "      <th>Clump Thickness</th>\n",
              "      <th>Uniformity of Cell Size</th>\n",
              "      <th>Uniformity of Cell Shape</th>\n",
              "      <th>Marginal Adhesion</th>\n",
              "      <th>Single Epithelial Cell Size</th>\n",
              "      <th>Bare Nuclei</th>\n",
              "      <th>Bland Chromatin</th>\n",
              "      <th>Normal Nucleoli</th>\n",
              "      <th>Mitoses</th>\n",
              "      <th>Class</th>\n",
              "    </tr>\n",
              "  </thead>\n",
              "  <tbody>\n",
              "    <tr>\n",
              "      <th>0</th>\n",
              "      <td>1000025</td>\n",
              "      <td>5</td>\n",
              "      <td>1</td>\n",
              "      <td>1</td>\n",
              "      <td>1</td>\n",
              "      <td>2</td>\n",
              "      <td>1</td>\n",
              "      <td>3</td>\n",
              "      <td>1</td>\n",
              "      <td>1</td>\n",
              "      <td>2</td>\n",
              "    </tr>\n",
              "    <tr>\n",
              "      <th>1</th>\n",
              "      <td>1002945</td>\n",
              "      <td>5</td>\n",
              "      <td>4</td>\n",
              "      <td>4</td>\n",
              "      <td>5</td>\n",
              "      <td>7</td>\n",
              "      <td>10</td>\n",
              "      <td>3</td>\n",
              "      <td>2</td>\n",
              "      <td>1</td>\n",
              "      <td>2</td>\n",
              "    </tr>\n",
              "    <tr>\n",
              "      <th>2</th>\n",
              "      <td>1015425</td>\n",
              "      <td>3</td>\n",
              "      <td>1</td>\n",
              "      <td>1</td>\n",
              "      <td>1</td>\n",
              "      <td>2</td>\n",
              "      <td>2</td>\n",
              "      <td>3</td>\n",
              "      <td>1</td>\n",
              "      <td>1</td>\n",
              "      <td>2</td>\n",
              "    </tr>\n",
              "    <tr>\n",
              "      <th>3</th>\n",
              "      <td>1016277</td>\n",
              "      <td>6</td>\n",
              "      <td>8</td>\n",
              "      <td>8</td>\n",
              "      <td>1</td>\n",
              "      <td>3</td>\n",
              "      <td>4</td>\n",
              "      <td>3</td>\n",
              "      <td>7</td>\n",
              "      <td>1</td>\n",
              "      <td>2</td>\n",
              "    </tr>\n",
              "    <tr>\n",
              "      <th>4</th>\n",
              "      <td>1017023</td>\n",
              "      <td>4</td>\n",
              "      <td>1</td>\n",
              "      <td>1</td>\n",
              "      <td>3</td>\n",
              "      <td>2</td>\n",
              "      <td>1</td>\n",
              "      <td>3</td>\n",
              "      <td>1</td>\n",
              "      <td>1</td>\n",
              "      <td>2</td>\n",
              "    </tr>\n",
              "    <tr>\n",
              "      <th>...</th>\n",
              "      <td>...</td>\n",
              "      <td>...</td>\n",
              "      <td>...</td>\n",
              "      <td>...</td>\n",
              "      <td>...</td>\n",
              "      <td>...</td>\n",
              "      <td>...</td>\n",
              "      <td>...</td>\n",
              "      <td>...</td>\n",
              "      <td>...</td>\n",
              "      <td>...</td>\n",
              "    </tr>\n",
              "    <tr>\n",
              "      <th>694</th>\n",
              "      <td>776715</td>\n",
              "      <td>3</td>\n",
              "      <td>1</td>\n",
              "      <td>1</td>\n",
              "      <td>1</td>\n",
              "      <td>3</td>\n",
              "      <td>2</td>\n",
              "      <td>1</td>\n",
              "      <td>1</td>\n",
              "      <td>1</td>\n",
              "      <td>2</td>\n",
              "    </tr>\n",
              "    <tr>\n",
              "      <th>695</th>\n",
              "      <td>841769</td>\n",
              "      <td>2</td>\n",
              "      <td>1</td>\n",
              "      <td>1</td>\n",
              "      <td>1</td>\n",
              "      <td>2</td>\n",
              "      <td>1</td>\n",
              "      <td>1</td>\n",
              "      <td>1</td>\n",
              "      <td>1</td>\n",
              "      <td>2</td>\n",
              "    </tr>\n",
              "    <tr>\n",
              "      <th>696</th>\n",
              "      <td>888820</td>\n",
              "      <td>5</td>\n",
              "      <td>10</td>\n",
              "      <td>10</td>\n",
              "      <td>3</td>\n",
              "      <td>7</td>\n",
              "      <td>3</td>\n",
              "      <td>8</td>\n",
              "      <td>10</td>\n",
              "      <td>2</td>\n",
              "      <td>4</td>\n",
              "    </tr>\n",
              "    <tr>\n",
              "      <th>697</th>\n",
              "      <td>897471</td>\n",
              "      <td>4</td>\n",
              "      <td>8</td>\n",
              "      <td>6</td>\n",
              "      <td>4</td>\n",
              "      <td>3</td>\n",
              "      <td>4</td>\n",
              "      <td>10</td>\n",
              "      <td>6</td>\n",
              "      <td>1</td>\n",
              "      <td>4</td>\n",
              "    </tr>\n",
              "    <tr>\n",
              "      <th>698</th>\n",
              "      <td>897471</td>\n",
              "      <td>4</td>\n",
              "      <td>8</td>\n",
              "      <td>8</td>\n",
              "      <td>5</td>\n",
              "      <td>4</td>\n",
              "      <td>5</td>\n",
              "      <td>10</td>\n",
              "      <td>4</td>\n",
              "      <td>1</td>\n",
              "      <td>4</td>\n",
              "    </tr>\n",
              "  </tbody>\n",
              "</table>\n",
              "<p>699 rows � 11 columns</p>\n",
              "</div>"
            ],
            "text/plain": [
              "     Sample ID Number  Clump Thickness  Uniformity of Cell Size  \\\n",
              "0             1000025                5                        1   \n",
              "1             1002945                5                        4   \n",
              "2             1015425                3                        1   \n",
              "3             1016277                6                        8   \n",
              "4             1017023                4                        1   \n",
              "..                ...              ...                      ...   \n",
              "694            776715                3                        1   \n",
              "695            841769                2                        1   \n",
              "696            888820                5                       10   \n",
              "697            897471                4                        8   \n",
              "698            897471                4                        8   \n",
              "\n",
              "     Uniformity of Cell Shape  Marginal Adhesion  Single Epithelial Cell Size  \\\n",
              "0                           1                  1                            2   \n",
              "1                           4                  5                            7   \n",
              "2                           1                  1                            2   \n",
              "3                           8                  1                            3   \n",
              "4                           1                  3                            2   \n",
              "..                        ...                ...                          ...   \n",
              "694                         1                  1                            3   \n",
              "695                         1                  1                            2   \n",
              "696                        10                  3                            7   \n",
              "697                         6                  4                            3   \n",
              "698                         8                  5                            4   \n",
              "\n",
              "    Bare Nuclei  Bland Chromatin  Normal Nucleoli  Mitoses  Class  \n",
              "0             1                3                1        1      2  \n",
              "1            10                3                2        1      2  \n",
              "2             2                3                1        1      2  \n",
              "3             4                3                7        1      2  \n",
              "4             1                3                1        1      2  \n",
              "..          ...              ...              ...      ...    ...  \n",
              "694           2                1                1        1      2  \n",
              "695           1                1                1        1      2  \n",
              "696           3                8               10        2      4  \n",
              "697           4               10                6        1      4  \n",
              "698           5               10                4        1      4  \n",
              "\n",
              "[699 rows x 11 columns]"
            ]
          },
          "execution_count": 332,
          "metadata": {},
          "output_type": "execute_result"
        }
      ],
      "source": [
        "data"
      ]
    },
    {
      "cell_type": "code",
      "execution_count": null,
      "metadata": {
        "colab": {
          "base_uri": "https://localhost:8080/",
          "height": 502
        },
        "id": "eAXmu_FHa6Mp",
        "outputId": "8361e8a5-c2b2-4d2e-bf2b-0b761acd255d"
      },
      "outputs": [
        {
          "data": {
            "text/plain": [
              "Clump Thickness                 int64\n",
              "Uniformity of Cell Size         int64\n",
              "Uniformity of Cell Shape        int64\n",
              "Marginal Adhesion               int64\n",
              "Single Epithelial Cell Size     int64\n",
              "Bare Nuclei                    object\n",
              "Bland Chromatin                 int64\n",
              "Normal Nucleoli                 int64\n",
              "Mitoses                         int64\n",
              "Class                           int64\n",
              "dtype: object"
            ]
          },
          "execution_count": 333,
          "metadata": {},
          "output_type": "execute_result"
        }
      ],
      "source": [
        "data = data.drop(['Sample ID Number'],axis = 1)\n",
        "data.dtypes"
      ]
    },
    {
      "cell_type": "code",
      "execution_count": null,
      "metadata": {
        "colab": {
          "base_uri": "https://localhost:8080/"
        },
        "id": "vVauFgMca-oM",
        "outputId": "5d13e57c-2d4e-4233-c802-d399da790cf8"
      },
      "outputs": [
        {
          "data": {
            "text/plain": [
              "array(['1', '10', '2', '4', '3', '9', '7', '?', '5', '8', '6'],\n",
              "      dtype=object)"
            ]
          },
          "execution_count": 334,
          "metadata": {},
          "output_type": "execute_result"
        }
      ],
      "source": [
        "# Bare Nuclei is a continous variable, heance it must be encoded before appling KNN.\n",
        "data['Bare Nuclei'].unique()"
      ]
    },
    {
      "cell_type": "code",
      "execution_count": null,
      "metadata": {
        "id": "S55aScb1boVw",
        "outputId": "766ed46b-310b-46c4-9087-e5a491876324"
      },
      "outputs": [
        {
          "name": "stderr",
          "output_type": "stream",
          "text": [
            "C:\\Users\\18125\\anaconda3\\lib\\site-packages\\sklearn\\preprocessing\\_label.py:115: DataConversionWarning: A column-vector y was passed when a 1d array was expected. Please change the shape of y to (n_samples, ), for example using ravel().\n",
            "  y = column_or_1d(y, warn=True)\n"
          ]
        }
      ],
      "source": [
        "label_encode = LabelEncoder()\n",
        "label_encode_encoded = label_encode.fit_transform(data[['Bare Nuclei']])\n",
        "data['Bare Nuclei'] = label_encode_encoded"
      ]
    },
    {
      "cell_type": "code",
      "execution_count": null,
      "metadata": {
        "colab": {
          "base_uri": "https://localhost:8080/"
        },
        "id": "_eTduYeFb0ll",
        "outputId": "f9aff075-8bf9-4d2b-cfa8-bb33121a7bb3"
      },
      "outputs": [
        {
          "data": {
            "text/plain": [
              "Clump Thickness                int64\n",
              "Uniformity of Cell Size        int64\n",
              "Uniformity of Cell Shape       int64\n",
              "Marginal Adhesion              int64\n",
              "Single Epithelial Cell Size    int64\n",
              "Bare Nuclei                    int32\n",
              "Bland Chromatin                int64\n",
              "Normal Nucleoli                int64\n",
              "Mitoses                        int64\n",
              "Class                          int64\n",
              "dtype: object"
            ]
          },
          "execution_count": 336,
          "metadata": {},
          "output_type": "execute_result"
        }
      ],
      "source": [
        "data.dtypes"
      ]
    },
    {
      "cell_type": "markdown",
      "metadata": {
        "id": "GUk1gCfrw_rn"
      },
      "source": [
        "# 1.2 Loading the data set of 699 samples x 10 features"
      ]
    },
    {
      "cell_type": "code",
      "execution_count": null,
      "metadata": {
        "colab": {
          "base_uri": "https://localhost:8080/",
          "height": 502
        },
        "id": "LAnocxzGbE_4",
        "outputId": "5e8857cc-cf9a-4941-dfe6-39a1f5936b95"
      },
      "outputs": [
        {
          "data": {
            "text/html": [
              "<div>\n",
              "<style scoped>\n",
              "    .dataframe tbody tr th:only-of-type {\n",
              "        vertical-align: middle;\n",
              "    }\n",
              "\n",
              "    .dataframe tbody tr th {\n",
              "        vertical-align: top;\n",
              "    }\n",
              "\n",
              "    .dataframe thead th {\n",
              "        text-align: right;\n",
              "    }\n",
              "</style>\n",
              "<table border=\"1\" class=\"dataframe\">\n",
              "  <thead>\n",
              "    <tr style=\"text-align: right;\">\n",
              "      <th></th>\n",
              "      <th>Clump Thickness</th>\n",
              "      <th>Uniformity of Cell Size</th>\n",
              "      <th>Uniformity of Cell Shape</th>\n",
              "      <th>Marginal Adhesion</th>\n",
              "      <th>Single Epithelial Cell Size</th>\n",
              "      <th>Bare Nuclei</th>\n",
              "      <th>Bland Chromatin</th>\n",
              "      <th>Normal Nucleoli</th>\n",
              "      <th>Mitoses</th>\n",
              "      <th>Class</th>\n",
              "    </tr>\n",
              "  </thead>\n",
              "  <tbody>\n",
              "    <tr>\n",
              "      <th>0</th>\n",
              "      <td>5</td>\n",
              "      <td>1</td>\n",
              "      <td>1</td>\n",
              "      <td>1</td>\n",
              "      <td>2</td>\n",
              "      <td>0</td>\n",
              "      <td>3</td>\n",
              "      <td>1</td>\n",
              "      <td>1</td>\n",
              "      <td>2</td>\n",
              "    </tr>\n",
              "    <tr>\n",
              "      <th>1</th>\n",
              "      <td>5</td>\n",
              "      <td>4</td>\n",
              "      <td>4</td>\n",
              "      <td>5</td>\n",
              "      <td>7</td>\n",
              "      <td>1</td>\n",
              "      <td>3</td>\n",
              "      <td>2</td>\n",
              "      <td>1</td>\n",
              "      <td>2</td>\n",
              "    </tr>\n",
              "    <tr>\n",
              "      <th>2</th>\n",
              "      <td>3</td>\n",
              "      <td>1</td>\n",
              "      <td>1</td>\n",
              "      <td>1</td>\n",
              "      <td>2</td>\n",
              "      <td>2</td>\n",
              "      <td>3</td>\n",
              "      <td>1</td>\n",
              "      <td>1</td>\n",
              "      <td>2</td>\n",
              "    </tr>\n",
              "    <tr>\n",
              "      <th>3</th>\n",
              "      <td>6</td>\n",
              "      <td>8</td>\n",
              "      <td>8</td>\n",
              "      <td>1</td>\n",
              "      <td>3</td>\n",
              "      <td>4</td>\n",
              "      <td>3</td>\n",
              "      <td>7</td>\n",
              "      <td>1</td>\n",
              "      <td>2</td>\n",
              "    </tr>\n",
              "    <tr>\n",
              "      <th>4</th>\n",
              "      <td>4</td>\n",
              "      <td>1</td>\n",
              "      <td>1</td>\n",
              "      <td>3</td>\n",
              "      <td>2</td>\n",
              "      <td>0</td>\n",
              "      <td>3</td>\n",
              "      <td>1</td>\n",
              "      <td>1</td>\n",
              "      <td>2</td>\n",
              "    </tr>\n",
              "    <tr>\n",
              "      <th>...</th>\n",
              "      <td>...</td>\n",
              "      <td>...</td>\n",
              "      <td>...</td>\n",
              "      <td>...</td>\n",
              "      <td>...</td>\n",
              "      <td>...</td>\n",
              "      <td>...</td>\n",
              "      <td>...</td>\n",
              "      <td>...</td>\n",
              "      <td>...</td>\n",
              "    </tr>\n",
              "    <tr>\n",
              "      <th>694</th>\n",
              "      <td>3</td>\n",
              "      <td>1</td>\n",
              "      <td>1</td>\n",
              "      <td>1</td>\n",
              "      <td>3</td>\n",
              "      <td>2</td>\n",
              "      <td>1</td>\n",
              "      <td>1</td>\n",
              "      <td>1</td>\n",
              "      <td>2</td>\n",
              "    </tr>\n",
              "    <tr>\n",
              "      <th>695</th>\n",
              "      <td>2</td>\n",
              "      <td>1</td>\n",
              "      <td>1</td>\n",
              "      <td>1</td>\n",
              "      <td>2</td>\n",
              "      <td>0</td>\n",
              "      <td>1</td>\n",
              "      <td>1</td>\n",
              "      <td>1</td>\n",
              "      <td>2</td>\n",
              "    </tr>\n",
              "    <tr>\n",
              "      <th>696</th>\n",
              "      <td>5</td>\n",
              "      <td>10</td>\n",
              "      <td>10</td>\n",
              "      <td>3</td>\n",
              "      <td>7</td>\n",
              "      <td>3</td>\n",
              "      <td>8</td>\n",
              "      <td>10</td>\n",
              "      <td>2</td>\n",
              "      <td>4</td>\n",
              "    </tr>\n",
              "    <tr>\n",
              "      <th>697</th>\n",
              "      <td>4</td>\n",
              "      <td>8</td>\n",
              "      <td>6</td>\n",
              "      <td>4</td>\n",
              "      <td>3</td>\n",
              "      <td>4</td>\n",
              "      <td>10</td>\n",
              "      <td>6</td>\n",
              "      <td>1</td>\n",
              "      <td>4</td>\n",
              "    </tr>\n",
              "    <tr>\n",
              "      <th>698</th>\n",
              "      <td>4</td>\n",
              "      <td>8</td>\n",
              "      <td>8</td>\n",
              "      <td>5</td>\n",
              "      <td>4</td>\n",
              "      <td>5</td>\n",
              "      <td>10</td>\n",
              "      <td>4</td>\n",
              "      <td>1</td>\n",
              "      <td>4</td>\n",
              "    </tr>\n",
              "  </tbody>\n",
              "</table>\n",
              "<p>699 rows � 10 columns</p>\n",
              "</div>"
            ],
            "text/plain": [
              "     Clump Thickness  Uniformity of Cell Size  Uniformity of Cell Shape  \\\n",
              "0                  5                        1                         1   \n",
              "1                  5                        4                         4   \n",
              "2                  3                        1                         1   \n",
              "3                  6                        8                         8   \n",
              "4                  4                        1                         1   \n",
              "..               ...                      ...                       ...   \n",
              "694                3                        1                         1   \n",
              "695                2                        1                         1   \n",
              "696                5                       10                        10   \n",
              "697                4                        8                         6   \n",
              "698                4                        8                         8   \n",
              "\n",
              "     Marginal Adhesion  Single Epithelial Cell Size  Bare Nuclei  \\\n",
              "0                    1                            2            0   \n",
              "1                    5                            7            1   \n",
              "2                    1                            2            2   \n",
              "3                    1                            3            4   \n",
              "4                    3                            2            0   \n",
              "..                 ...                          ...          ...   \n",
              "694                  1                            3            2   \n",
              "695                  1                            2            0   \n",
              "696                  3                            7            3   \n",
              "697                  4                            3            4   \n",
              "698                  5                            4            5   \n",
              "\n",
              "     Bland Chromatin  Normal Nucleoli  Mitoses  Class  \n",
              "0                  3                1        1      2  \n",
              "1                  3                2        1      2  \n",
              "2                  3                1        1      2  \n",
              "3                  3                7        1      2  \n",
              "4                  3                1        1      2  \n",
              "..               ...              ...      ...    ...  \n",
              "694                1                1        1      2  \n",
              "695                1                1        1      2  \n",
              "696                8               10        2      4  \n",
              "697               10                6        1      4  \n",
              "698               10                4        1      4  \n",
              "\n",
              "[699 rows x 10 columns]"
            ]
          },
          "execution_count": 337,
          "metadata": {},
          "output_type": "execute_result"
        }
      ],
      "source": [
        "data"
      ]
    },
    {
      "cell_type": "code",
      "execution_count": null,
      "metadata": {
        "id": "g4cgheUjw_ro",
        "outputId": "55d8aa8b-4c85-4af6-a4d5-0740e57d88c9"
      },
      "outputs": [
        {
          "data": {
            "text/html": [
              "<div>\n",
              "<style scoped>\n",
              "    .dataframe tbody tr th:only-of-type {\n",
              "        vertical-align: middle;\n",
              "    }\n",
              "\n",
              "    .dataframe tbody tr th {\n",
              "        vertical-align: top;\n",
              "    }\n",
              "\n",
              "    .dataframe thead th {\n",
              "        text-align: right;\n",
              "    }\n",
              "</style>\n",
              "<table border=\"1\" class=\"dataframe\">\n",
              "  <thead>\n",
              "    <tr style=\"text-align: right;\">\n",
              "      <th></th>\n",
              "      <th>Clump Thickness</th>\n",
              "      <th>Uniformity of Cell Size</th>\n",
              "      <th>Uniformity of Cell Shape</th>\n",
              "      <th>Marginal Adhesion</th>\n",
              "      <th>Single Epithelial Cell Size</th>\n",
              "      <th>Bare Nuclei</th>\n",
              "      <th>Bland Chromatin</th>\n",
              "      <th>Normal Nucleoli</th>\n",
              "      <th>Mitoses</th>\n",
              "    </tr>\n",
              "  </thead>\n",
              "  <tbody>\n",
              "    <tr>\n",
              "      <th>0</th>\n",
              "      <td>5</td>\n",
              "      <td>1</td>\n",
              "      <td>1</td>\n",
              "      <td>1</td>\n",
              "      <td>2</td>\n",
              "      <td>0</td>\n",
              "      <td>3</td>\n",
              "      <td>1</td>\n",
              "      <td>1</td>\n",
              "    </tr>\n",
              "    <tr>\n",
              "      <th>1</th>\n",
              "      <td>5</td>\n",
              "      <td>4</td>\n",
              "      <td>4</td>\n",
              "      <td>5</td>\n",
              "      <td>7</td>\n",
              "      <td>1</td>\n",
              "      <td>3</td>\n",
              "      <td>2</td>\n",
              "      <td>1</td>\n",
              "    </tr>\n",
              "    <tr>\n",
              "      <th>2</th>\n",
              "      <td>3</td>\n",
              "      <td>1</td>\n",
              "      <td>1</td>\n",
              "      <td>1</td>\n",
              "      <td>2</td>\n",
              "      <td>2</td>\n",
              "      <td>3</td>\n",
              "      <td>1</td>\n",
              "      <td>1</td>\n",
              "    </tr>\n",
              "    <tr>\n",
              "      <th>3</th>\n",
              "      <td>6</td>\n",
              "      <td>8</td>\n",
              "      <td>8</td>\n",
              "      <td>1</td>\n",
              "      <td>3</td>\n",
              "      <td>4</td>\n",
              "      <td>3</td>\n",
              "      <td>7</td>\n",
              "      <td>1</td>\n",
              "    </tr>\n",
              "    <tr>\n",
              "      <th>4</th>\n",
              "      <td>4</td>\n",
              "      <td>1</td>\n",
              "      <td>1</td>\n",
              "      <td>3</td>\n",
              "      <td>2</td>\n",
              "      <td>0</td>\n",
              "      <td>3</td>\n",
              "      <td>1</td>\n",
              "      <td>1</td>\n",
              "    </tr>\n",
              "    <tr>\n",
              "      <th>...</th>\n",
              "      <td>...</td>\n",
              "      <td>...</td>\n",
              "      <td>...</td>\n",
              "      <td>...</td>\n",
              "      <td>...</td>\n",
              "      <td>...</td>\n",
              "      <td>...</td>\n",
              "      <td>...</td>\n",
              "      <td>...</td>\n",
              "    </tr>\n",
              "    <tr>\n",
              "      <th>694</th>\n",
              "      <td>3</td>\n",
              "      <td>1</td>\n",
              "      <td>1</td>\n",
              "      <td>1</td>\n",
              "      <td>3</td>\n",
              "      <td>2</td>\n",
              "      <td>1</td>\n",
              "      <td>1</td>\n",
              "      <td>1</td>\n",
              "    </tr>\n",
              "    <tr>\n",
              "      <th>695</th>\n",
              "      <td>2</td>\n",
              "      <td>1</td>\n",
              "      <td>1</td>\n",
              "      <td>1</td>\n",
              "      <td>2</td>\n",
              "      <td>0</td>\n",
              "      <td>1</td>\n",
              "      <td>1</td>\n",
              "      <td>1</td>\n",
              "    </tr>\n",
              "    <tr>\n",
              "      <th>696</th>\n",
              "      <td>5</td>\n",
              "      <td>10</td>\n",
              "      <td>10</td>\n",
              "      <td>3</td>\n",
              "      <td>7</td>\n",
              "      <td>3</td>\n",
              "      <td>8</td>\n",
              "      <td>10</td>\n",
              "      <td>2</td>\n",
              "    </tr>\n",
              "    <tr>\n",
              "      <th>697</th>\n",
              "      <td>4</td>\n",
              "      <td>8</td>\n",
              "      <td>6</td>\n",
              "      <td>4</td>\n",
              "      <td>3</td>\n",
              "      <td>4</td>\n",
              "      <td>10</td>\n",
              "      <td>6</td>\n",
              "      <td>1</td>\n",
              "    </tr>\n",
              "    <tr>\n",
              "      <th>698</th>\n",
              "      <td>4</td>\n",
              "      <td>8</td>\n",
              "      <td>8</td>\n",
              "      <td>5</td>\n",
              "      <td>4</td>\n",
              "      <td>5</td>\n",
              "      <td>10</td>\n",
              "      <td>4</td>\n",
              "      <td>1</td>\n",
              "    </tr>\n",
              "  </tbody>\n",
              "</table>\n",
              "<p>699 rows � 9 columns</p>\n",
              "</div>"
            ],
            "text/plain": [
              "     Clump Thickness  Uniformity of Cell Size  Uniformity of Cell Shape  \\\n",
              "0                  5                        1                         1   \n",
              "1                  5                        4                         4   \n",
              "2                  3                        1                         1   \n",
              "3                  6                        8                         8   \n",
              "4                  4                        1                         1   \n",
              "..               ...                      ...                       ...   \n",
              "694                3                        1                         1   \n",
              "695                2                        1                         1   \n",
              "696                5                       10                        10   \n",
              "697                4                        8                         6   \n",
              "698                4                        8                         8   \n",
              "\n",
              "     Marginal Adhesion  Single Epithelial Cell Size  Bare Nuclei  \\\n",
              "0                    1                            2            0   \n",
              "1                    5                            7            1   \n",
              "2                    1                            2            2   \n",
              "3                    1                            3            4   \n",
              "4                    3                            2            0   \n",
              "..                 ...                          ...          ...   \n",
              "694                  1                            3            2   \n",
              "695                  1                            2            0   \n",
              "696                  3                            7            3   \n",
              "697                  4                            3            4   \n",
              "698                  5                            4            5   \n",
              "\n",
              "     Bland Chromatin  Normal Nucleoli  Mitoses  \n",
              "0                  3                1        1  \n",
              "1                  3                2        1  \n",
              "2                  3                1        1  \n",
              "3                  3                7        1  \n",
              "4                  3                1        1  \n",
              "..               ...              ...      ...  \n",
              "694                1                1        1  \n",
              "695                1                1        1  \n",
              "696                8               10        2  \n",
              "697               10                6        1  \n",
              "698               10                4        1  \n",
              "\n",
              "[699 rows x 9 columns]"
            ]
          },
          "execution_count": 338,
          "metadata": {},
          "output_type": "execute_result"
        }
      ],
      "source": [
        "df = data.drop(['Class'],axis=1)\n",
        "df"
      ]
    },
    {
      "cell_type": "code",
      "execution_count": null,
      "metadata": {
        "id": "mSrhpqHqw_rp"
      },
      "outputs": [],
      "source": [
        "B = data['Class'] == 2\n",
        "M = data['Class'] == 4"
      ]
    },
    {
      "cell_type": "code",
      "execution_count": null,
      "metadata": {
        "colab": {
          "base_uri": "https://localhost:8080/",
          "height": 502
        },
        "id": "b1wrGRZJ8d9f",
        "outputId": "b2f0fd9f-c574-4b4a-80af-28815813bf6d"
      },
      "outputs": [
        {
          "data": {
            "text/html": [
              "<div>\n",
              "<style scoped>\n",
              "    .dataframe tbody tr th:only-of-type {\n",
              "        vertical-align: middle;\n",
              "    }\n",
              "\n",
              "    .dataframe tbody tr th {\n",
              "        vertical-align: top;\n",
              "    }\n",
              "\n",
              "    .dataframe thead th {\n",
              "        text-align: right;\n",
              "    }\n",
              "</style>\n",
              "<table border=\"1\" class=\"dataframe\">\n",
              "  <thead>\n",
              "    <tr style=\"text-align: right;\">\n",
              "      <th></th>\n",
              "      <th>Clump Thickness</th>\n",
              "      <th>Uniformity of Cell Size</th>\n",
              "      <th>Uniformity of Cell Shape</th>\n",
              "      <th>Marginal Adhesion</th>\n",
              "      <th>Single Epithelial Cell Size</th>\n",
              "      <th>Bare Nuclei</th>\n",
              "      <th>Bland Chromatin</th>\n",
              "      <th>Normal Nucleoli</th>\n",
              "      <th>Mitoses</th>\n",
              "      <th>Class</th>\n",
              "    </tr>\n",
              "  </thead>\n",
              "  <tbody>\n",
              "    <tr>\n",
              "      <th>0</th>\n",
              "      <td>5</td>\n",
              "      <td>1</td>\n",
              "      <td>1</td>\n",
              "      <td>1</td>\n",
              "      <td>2</td>\n",
              "      <td>0</td>\n",
              "      <td>3</td>\n",
              "      <td>1</td>\n",
              "      <td>1</td>\n",
              "      <td>0</td>\n",
              "    </tr>\n",
              "    <tr>\n",
              "      <th>1</th>\n",
              "      <td>5</td>\n",
              "      <td>4</td>\n",
              "      <td>4</td>\n",
              "      <td>5</td>\n",
              "      <td>7</td>\n",
              "      <td>1</td>\n",
              "      <td>3</td>\n",
              "      <td>2</td>\n",
              "      <td>1</td>\n",
              "      <td>0</td>\n",
              "    </tr>\n",
              "    <tr>\n",
              "      <th>2</th>\n",
              "      <td>3</td>\n",
              "      <td>1</td>\n",
              "      <td>1</td>\n",
              "      <td>1</td>\n",
              "      <td>2</td>\n",
              "      <td>2</td>\n",
              "      <td>3</td>\n",
              "      <td>1</td>\n",
              "      <td>1</td>\n",
              "      <td>0</td>\n",
              "    </tr>\n",
              "    <tr>\n",
              "      <th>3</th>\n",
              "      <td>6</td>\n",
              "      <td>8</td>\n",
              "      <td>8</td>\n",
              "      <td>1</td>\n",
              "      <td>3</td>\n",
              "      <td>4</td>\n",
              "      <td>3</td>\n",
              "      <td>7</td>\n",
              "      <td>1</td>\n",
              "      <td>0</td>\n",
              "    </tr>\n",
              "    <tr>\n",
              "      <th>4</th>\n",
              "      <td>4</td>\n",
              "      <td>1</td>\n",
              "      <td>1</td>\n",
              "      <td>3</td>\n",
              "      <td>2</td>\n",
              "      <td>0</td>\n",
              "      <td>3</td>\n",
              "      <td>1</td>\n",
              "      <td>1</td>\n",
              "      <td>0</td>\n",
              "    </tr>\n",
              "    <tr>\n",
              "      <th>...</th>\n",
              "      <td>...</td>\n",
              "      <td>...</td>\n",
              "      <td>...</td>\n",
              "      <td>...</td>\n",
              "      <td>...</td>\n",
              "      <td>...</td>\n",
              "      <td>...</td>\n",
              "      <td>...</td>\n",
              "      <td>...</td>\n",
              "      <td>...</td>\n",
              "    </tr>\n",
              "    <tr>\n",
              "      <th>694</th>\n",
              "      <td>3</td>\n",
              "      <td>1</td>\n",
              "      <td>1</td>\n",
              "      <td>1</td>\n",
              "      <td>3</td>\n",
              "      <td>2</td>\n",
              "      <td>1</td>\n",
              "      <td>1</td>\n",
              "      <td>1</td>\n",
              "      <td>0</td>\n",
              "    </tr>\n",
              "    <tr>\n",
              "      <th>695</th>\n",
              "      <td>2</td>\n",
              "      <td>1</td>\n",
              "      <td>1</td>\n",
              "      <td>1</td>\n",
              "      <td>2</td>\n",
              "      <td>0</td>\n",
              "      <td>1</td>\n",
              "      <td>1</td>\n",
              "      <td>1</td>\n",
              "      <td>0</td>\n",
              "    </tr>\n",
              "    <tr>\n",
              "      <th>696</th>\n",
              "      <td>5</td>\n",
              "      <td>10</td>\n",
              "      <td>10</td>\n",
              "      <td>3</td>\n",
              "      <td>7</td>\n",
              "      <td>3</td>\n",
              "      <td>8</td>\n",
              "      <td>10</td>\n",
              "      <td>2</td>\n",
              "      <td>1</td>\n",
              "    </tr>\n",
              "    <tr>\n",
              "      <th>697</th>\n",
              "      <td>4</td>\n",
              "      <td>8</td>\n",
              "      <td>6</td>\n",
              "      <td>4</td>\n",
              "      <td>3</td>\n",
              "      <td>4</td>\n",
              "      <td>10</td>\n",
              "      <td>6</td>\n",
              "      <td>1</td>\n",
              "      <td>1</td>\n",
              "    </tr>\n",
              "    <tr>\n",
              "      <th>698</th>\n",
              "      <td>4</td>\n",
              "      <td>8</td>\n",
              "      <td>8</td>\n",
              "      <td>5</td>\n",
              "      <td>4</td>\n",
              "      <td>5</td>\n",
              "      <td>10</td>\n",
              "      <td>4</td>\n",
              "      <td>1</td>\n",
              "      <td>1</td>\n",
              "    </tr>\n",
              "  </tbody>\n",
              "</table>\n",
              "<p>699 rows � 10 columns</p>\n",
              "</div>"
            ],
            "text/plain": [
              "     Clump Thickness  Uniformity of Cell Size  Uniformity of Cell Shape  \\\n",
              "0                  5                        1                         1   \n",
              "1                  5                        4                         4   \n",
              "2                  3                        1                         1   \n",
              "3                  6                        8                         8   \n",
              "4                  4                        1                         1   \n",
              "..               ...                      ...                       ...   \n",
              "694                3                        1                         1   \n",
              "695                2                        1                         1   \n",
              "696                5                       10                        10   \n",
              "697                4                        8                         6   \n",
              "698                4                        8                         8   \n",
              "\n",
              "     Marginal Adhesion  Single Epithelial Cell Size  Bare Nuclei  \\\n",
              "0                    1                            2            0   \n",
              "1                    5                            7            1   \n",
              "2                    1                            2            2   \n",
              "3                    1                            3            4   \n",
              "4                    3                            2            0   \n",
              "..                 ...                          ...          ...   \n",
              "694                  1                            3            2   \n",
              "695                  1                            2            0   \n",
              "696                  3                            7            3   \n",
              "697                  4                            3            4   \n",
              "698                  5                            4            5   \n",
              "\n",
              "     Bland Chromatin  Normal Nucleoli  Mitoses  Class  \n",
              "0                  3                1        1      0  \n",
              "1                  3                2        1      0  \n",
              "2                  3                1        1      0  \n",
              "3                  3                7        1      0  \n",
              "4                  3                1        1      0  \n",
              "..               ...              ...      ...    ...  \n",
              "694                1                1        1      0  \n",
              "695                1                1        1      0  \n",
              "696                8               10        2      1  \n",
              "697               10                6        1      1  \n",
              "698               10                4        1      1  \n",
              "\n",
              "[699 rows x 10 columns]"
            ]
          },
          "execution_count": 340,
          "metadata": {},
          "output_type": "execute_result"
        }
      ],
      "source": [
        "data.loc[B,'Class'] = 0\n",
        "data.loc[M,'Class'] = 1\n",
        "data"
      ]
    },
    {
      "cell_type": "code",
      "execution_count": null,
      "metadata": {
        "colab": {
          "base_uri": "https://localhost:8080/",
          "height": 502
        },
        "id": "hRSBYgh7cYJw",
        "outputId": "44294b05-6bb2-429e-c422-91ff696b3dca"
      },
      "outputs": [
        {
          "data": {
            "text/html": [
              "<div>\n",
              "<style scoped>\n",
              "    .dataframe tbody tr th:only-of-type {\n",
              "        vertical-align: middle;\n",
              "    }\n",
              "\n",
              "    .dataframe tbody tr th {\n",
              "        vertical-align: top;\n",
              "    }\n",
              "\n",
              "    .dataframe thead th {\n",
              "        text-align: right;\n",
              "    }\n",
              "</style>\n",
              "<table border=\"1\" class=\"dataframe\">\n",
              "  <thead>\n",
              "    <tr style=\"text-align: right;\">\n",
              "      <th></th>\n",
              "      <th>Clump Thickness</th>\n",
              "      <th>Uniformity of Cell Size</th>\n",
              "      <th>Uniformity of Cell Shape</th>\n",
              "      <th>Marginal Adhesion</th>\n",
              "      <th>Single Epithelial Cell Size</th>\n",
              "      <th>Bare Nuclei</th>\n",
              "      <th>Bland Chromatin</th>\n",
              "      <th>Normal Nucleoli</th>\n",
              "      <th>Mitoses</th>\n",
              "    </tr>\n",
              "  </thead>\n",
              "  <tbody>\n",
              "    <tr>\n",
              "      <th>0</th>\n",
              "      <td>5</td>\n",
              "      <td>1</td>\n",
              "      <td>1</td>\n",
              "      <td>1</td>\n",
              "      <td>2</td>\n",
              "      <td>0</td>\n",
              "      <td>3</td>\n",
              "      <td>1</td>\n",
              "      <td>1</td>\n",
              "    </tr>\n",
              "    <tr>\n",
              "      <th>1</th>\n",
              "      <td>5</td>\n",
              "      <td>4</td>\n",
              "      <td>4</td>\n",
              "      <td>5</td>\n",
              "      <td>7</td>\n",
              "      <td>1</td>\n",
              "      <td>3</td>\n",
              "      <td>2</td>\n",
              "      <td>1</td>\n",
              "    </tr>\n",
              "    <tr>\n",
              "      <th>2</th>\n",
              "      <td>3</td>\n",
              "      <td>1</td>\n",
              "      <td>1</td>\n",
              "      <td>1</td>\n",
              "      <td>2</td>\n",
              "      <td>2</td>\n",
              "      <td>3</td>\n",
              "      <td>1</td>\n",
              "      <td>1</td>\n",
              "    </tr>\n",
              "    <tr>\n",
              "      <th>3</th>\n",
              "      <td>6</td>\n",
              "      <td>8</td>\n",
              "      <td>8</td>\n",
              "      <td>1</td>\n",
              "      <td>3</td>\n",
              "      <td>4</td>\n",
              "      <td>3</td>\n",
              "      <td>7</td>\n",
              "      <td>1</td>\n",
              "    </tr>\n",
              "    <tr>\n",
              "      <th>4</th>\n",
              "      <td>4</td>\n",
              "      <td>1</td>\n",
              "      <td>1</td>\n",
              "      <td>3</td>\n",
              "      <td>2</td>\n",
              "      <td>0</td>\n",
              "      <td>3</td>\n",
              "      <td>1</td>\n",
              "      <td>1</td>\n",
              "    </tr>\n",
              "    <tr>\n",
              "      <th>...</th>\n",
              "      <td>...</td>\n",
              "      <td>...</td>\n",
              "      <td>...</td>\n",
              "      <td>...</td>\n",
              "      <td>...</td>\n",
              "      <td>...</td>\n",
              "      <td>...</td>\n",
              "      <td>...</td>\n",
              "      <td>...</td>\n",
              "    </tr>\n",
              "    <tr>\n",
              "      <th>694</th>\n",
              "      <td>3</td>\n",
              "      <td>1</td>\n",
              "      <td>1</td>\n",
              "      <td>1</td>\n",
              "      <td>3</td>\n",
              "      <td>2</td>\n",
              "      <td>1</td>\n",
              "      <td>1</td>\n",
              "      <td>1</td>\n",
              "    </tr>\n",
              "    <tr>\n",
              "      <th>695</th>\n",
              "      <td>2</td>\n",
              "      <td>1</td>\n",
              "      <td>1</td>\n",
              "      <td>1</td>\n",
              "      <td>2</td>\n",
              "      <td>0</td>\n",
              "      <td>1</td>\n",
              "      <td>1</td>\n",
              "      <td>1</td>\n",
              "    </tr>\n",
              "    <tr>\n",
              "      <th>696</th>\n",
              "      <td>5</td>\n",
              "      <td>10</td>\n",
              "      <td>10</td>\n",
              "      <td>3</td>\n",
              "      <td>7</td>\n",
              "      <td>3</td>\n",
              "      <td>8</td>\n",
              "      <td>10</td>\n",
              "      <td>2</td>\n",
              "    </tr>\n",
              "    <tr>\n",
              "      <th>697</th>\n",
              "      <td>4</td>\n",
              "      <td>8</td>\n",
              "      <td>6</td>\n",
              "      <td>4</td>\n",
              "      <td>3</td>\n",
              "      <td>4</td>\n",
              "      <td>10</td>\n",
              "      <td>6</td>\n",
              "      <td>1</td>\n",
              "    </tr>\n",
              "    <tr>\n",
              "      <th>698</th>\n",
              "      <td>4</td>\n",
              "      <td>8</td>\n",
              "      <td>8</td>\n",
              "      <td>5</td>\n",
              "      <td>4</td>\n",
              "      <td>5</td>\n",
              "      <td>10</td>\n",
              "      <td>4</td>\n",
              "      <td>1</td>\n",
              "    </tr>\n",
              "  </tbody>\n",
              "</table>\n",
              "<p>699 rows � 9 columns</p>\n",
              "</div>"
            ],
            "text/plain": [
              "     Clump Thickness  Uniformity of Cell Size  Uniformity of Cell Shape  \\\n",
              "0                  5                        1                         1   \n",
              "1                  5                        4                         4   \n",
              "2                  3                        1                         1   \n",
              "3                  6                        8                         8   \n",
              "4                  4                        1                         1   \n",
              "..               ...                      ...                       ...   \n",
              "694                3                        1                         1   \n",
              "695                2                        1                         1   \n",
              "696                5                       10                        10   \n",
              "697                4                        8                         6   \n",
              "698                4                        8                         8   \n",
              "\n",
              "     Marginal Adhesion  Single Epithelial Cell Size  Bare Nuclei  \\\n",
              "0                    1                            2            0   \n",
              "1                    5                            7            1   \n",
              "2                    1                            2            2   \n",
              "3                    1                            3            4   \n",
              "4                    3                            2            0   \n",
              "..                 ...                          ...          ...   \n",
              "694                  1                            3            2   \n",
              "695                  1                            2            0   \n",
              "696                  3                            7            3   \n",
              "697                  4                            3            4   \n",
              "698                  5                            4            5   \n",
              "\n",
              "     Bland Chromatin  Normal Nucleoli  Mitoses  \n",
              "0                  3                1        1  \n",
              "1                  3                2        1  \n",
              "2                  3                1        1  \n",
              "3                  3                7        1  \n",
              "4                  3                1        1  \n",
              "..               ...              ...      ...  \n",
              "694                1                1        1  \n",
              "695                1                1        1  \n",
              "696                8               10        2  \n",
              "697               10                6        1  \n",
              "698               10                4        1  \n",
              "\n",
              "[699 rows x 9 columns]"
            ]
          },
          "execution_count": 341,
          "metadata": {},
          "output_type": "execute_result"
        }
      ],
      "source": [
        "df = data.drop(['Class'],axis=1)\n",
        "df"
      ]
    },
    {
      "cell_type": "code",
      "execution_count": null,
      "metadata": {
        "id": "_V9Tm6ixooCH"
      },
      "outputs": [],
      "source": [
        "df['centroid'], without_class_labels_error, centroids =  KNN(df,5)\n",
        "#df['centroid'].head()  "
      ]
    },
    {
      "cell_type": "code",
      "execution_count": null,
      "metadata": {
        "colab": {
          "base_uri": "https://localhost:8080/"
        },
        "id": "yEe6BXcTeqvO",
        "outputId": "5fd9028d-2e42-41e6-f377-9b209ab2079a"
      },
      "outputs": [
        {
          "name": "stdout",
          "output_type": "stream",
          "text": [
            "50.21459227467812\n"
          ]
        }
      ],
      "source": [
        "valid = 0\n",
        "for i,j in zip(df['centroid'],data['Class']):\n",
        "  if i == j:\n",
        "    valid += 1\n",
        "\n",
        "accuracy_without_labels = (valid / data.shape[0])*100\n",
        "print(accuracy_without_labels)"
      ]
    },
    {
      "cell_type": "code",
      "execution_count": null,
      "metadata": {
        "colab": {
          "base_uri": "https://localhost:8080/"
        },
        "id": "uhxTdk5Qosst",
        "outputId": "37b8b8cb-b7ca-45d3-9973-c90c32d37d82"
      },
      "outputs": [
        {
          "data": {
            "text/plain": [
              "6179.026367000532"
            ]
          },
          "execution_count": 344,
          "metadata": {},
          "output_type": "execute_result"
        }
      ],
      "source": [
        "sum(without_class_labels_error)"
      ]
    },
    {
      "cell_type": "code",
      "execution_count": null,
      "metadata": {
        "colab": {
          "base_uri": "https://localhost:8080/"
        },
        "id": "ExyO-4YGeQho",
        "outputId": "c0d35499-6a33-485f-e3a3-e780cf27b222"
      },
      "outputs": [
        {
          "data": {
            "text/plain": [
              "0    3\n",
              "1    2\n",
              "2    1\n",
              "3    0\n",
              "4    3\n",
              "Name: centroid, dtype: int64"
            ]
          },
          "execution_count": 345,
          "metadata": {},
          "output_type": "execute_result"
        }
      ],
      "source": [
        "data['centroid'], with_class_labels_error, centroids =  KNN(df,5)\n",
        "data['centroid'].head()  "
      ]
    },
    {
      "cell_type": "code",
      "execution_count": null,
      "metadata": {
        "colab": {
          "base_uri": "https://localhost:8080/"
        },
        "id": "UWHS9SuBeclI",
        "outputId": "8378a772-ce27-4c9d-844e-a36c007528b3"
      },
      "outputs": [
        {
          "data": {
            "text/plain": [
              "7102.549108332421"
            ]
          },
          "execution_count": 346,
          "metadata": {},
          "output_type": "execute_result"
        }
      ],
      "source": [
        "sum(with_class_labels_error)"
      ]
    },
    {
      "cell_type": "code",
      "execution_count": null,
      "metadata": {
        "colab": {
          "base_uri": "https://localhost:8080/",
          "height": 522
        },
        "id": "8v7UcJD4fEtc",
        "outputId": "6e9aad50-b7f1-49f7-a2b5-6bb7a63238b4",
        "scrolled": true
      },
      "outputs": [
        {
          "data": {
            "text/html": [
              "<div>\n",
              "<style scoped>\n",
              "    .dataframe tbody tr th:only-of-type {\n",
              "        vertical-align: middle;\n",
              "    }\n",
              "\n",
              "    .dataframe tbody tr th {\n",
              "        vertical-align: top;\n",
              "    }\n",
              "\n",
              "    .dataframe thead th {\n",
              "        text-align: right;\n",
              "    }\n",
              "</style>\n",
              "<table border=\"1\" class=\"dataframe\">\n",
              "  <thead>\n",
              "    <tr style=\"text-align: right;\">\n",
              "      <th></th>\n",
              "      <th>Clump Thickness</th>\n",
              "      <th>Uniformity of Cell Size</th>\n",
              "      <th>Uniformity of Cell Shape</th>\n",
              "      <th>Marginal Adhesion</th>\n",
              "      <th>Single Epithelial Cell Size</th>\n",
              "      <th>Bare Nuclei</th>\n",
              "      <th>Bland Chromatin</th>\n",
              "      <th>Normal Nucleoli</th>\n",
              "      <th>Mitoses</th>\n",
              "      <th>Class</th>\n",
              "      <th>centroid</th>\n",
              "    </tr>\n",
              "  </thead>\n",
              "  <tbody>\n",
              "    <tr>\n",
              "      <th>0</th>\n",
              "      <td>5</td>\n",
              "      <td>1</td>\n",
              "      <td>1</td>\n",
              "      <td>1</td>\n",
              "      <td>2</td>\n",
              "      <td>0</td>\n",
              "      <td>3</td>\n",
              "      <td>1</td>\n",
              "      <td>1</td>\n",
              "      <td>0</td>\n",
              "      <td>3</td>\n",
              "    </tr>\n",
              "    <tr>\n",
              "      <th>1</th>\n",
              "      <td>5</td>\n",
              "      <td>4</td>\n",
              "      <td>4</td>\n",
              "      <td>5</td>\n",
              "      <td>7</td>\n",
              "      <td>1</td>\n",
              "      <td>3</td>\n",
              "      <td>2</td>\n",
              "      <td>1</td>\n",
              "      <td>0</td>\n",
              "      <td>2</td>\n",
              "    </tr>\n",
              "    <tr>\n",
              "      <th>2</th>\n",
              "      <td>3</td>\n",
              "      <td>1</td>\n",
              "      <td>1</td>\n",
              "      <td>1</td>\n",
              "      <td>2</td>\n",
              "      <td>2</td>\n",
              "      <td>3</td>\n",
              "      <td>1</td>\n",
              "      <td>1</td>\n",
              "      <td>0</td>\n",
              "      <td>1</td>\n",
              "    </tr>\n",
              "    <tr>\n",
              "      <th>3</th>\n",
              "      <td>6</td>\n",
              "      <td>8</td>\n",
              "      <td>8</td>\n",
              "      <td>1</td>\n",
              "      <td>3</td>\n",
              "      <td>4</td>\n",
              "      <td>3</td>\n",
              "      <td>7</td>\n",
              "      <td>1</td>\n",
              "      <td>0</td>\n",
              "      <td>0</td>\n",
              "    </tr>\n",
              "    <tr>\n",
              "      <th>4</th>\n",
              "      <td>4</td>\n",
              "      <td>1</td>\n",
              "      <td>1</td>\n",
              "      <td>3</td>\n",
              "      <td>2</td>\n",
              "      <td>0</td>\n",
              "      <td>3</td>\n",
              "      <td>1</td>\n",
              "      <td>1</td>\n",
              "      <td>0</td>\n",
              "      <td>3</td>\n",
              "    </tr>\n",
              "    <tr>\n",
              "      <th>...</th>\n",
              "      <td>...</td>\n",
              "      <td>...</td>\n",
              "      <td>...</td>\n",
              "      <td>...</td>\n",
              "      <td>...</td>\n",
              "      <td>...</td>\n",
              "      <td>...</td>\n",
              "      <td>...</td>\n",
              "      <td>...</td>\n",
              "      <td>...</td>\n",
              "      <td>...</td>\n",
              "    </tr>\n",
              "    <tr>\n",
              "      <th>694</th>\n",
              "      <td>3</td>\n",
              "      <td>1</td>\n",
              "      <td>1</td>\n",
              "      <td>1</td>\n",
              "      <td>3</td>\n",
              "      <td>2</td>\n",
              "      <td>1</td>\n",
              "      <td>1</td>\n",
              "      <td>1</td>\n",
              "      <td>0</td>\n",
              "      <td>1</td>\n",
              "    </tr>\n",
              "    <tr>\n",
              "      <th>695</th>\n",
              "      <td>2</td>\n",
              "      <td>1</td>\n",
              "      <td>1</td>\n",
              "      <td>1</td>\n",
              "      <td>2</td>\n",
              "      <td>0</td>\n",
              "      <td>1</td>\n",
              "      <td>1</td>\n",
              "      <td>1</td>\n",
              "      <td>0</td>\n",
              "      <td>1</td>\n",
              "    </tr>\n",
              "    <tr>\n",
              "      <th>696</th>\n",
              "      <td>5</td>\n",
              "      <td>10</td>\n",
              "      <td>10</td>\n",
              "      <td>3</td>\n",
              "      <td>7</td>\n",
              "      <td>3</td>\n",
              "      <td>8</td>\n",
              "      <td>10</td>\n",
              "      <td>2</td>\n",
              "      <td>1</td>\n",
              "      <td>0</td>\n",
              "    </tr>\n",
              "    <tr>\n",
              "      <th>697</th>\n",
              "      <td>4</td>\n",
              "      <td>8</td>\n",
              "      <td>6</td>\n",
              "      <td>4</td>\n",
              "      <td>3</td>\n",
              "      <td>4</td>\n",
              "      <td>10</td>\n",
              "      <td>6</td>\n",
              "      <td>1</td>\n",
              "      <td>1</td>\n",
              "      <td>2</td>\n",
              "    </tr>\n",
              "    <tr>\n",
              "      <th>698</th>\n",
              "      <td>4</td>\n",
              "      <td>8</td>\n",
              "      <td>8</td>\n",
              "      <td>5</td>\n",
              "      <td>4</td>\n",
              "      <td>5</td>\n",
              "      <td>10</td>\n",
              "      <td>4</td>\n",
              "      <td>1</td>\n",
              "      <td>1</td>\n",
              "      <td>2</td>\n",
              "    </tr>\n",
              "  </tbody>\n",
              "</table>\n",
              "<p>699 rows � 11 columns</p>\n",
              "</div>"
            ],
            "text/plain": [
              "     Clump Thickness  Uniformity of Cell Size  Uniformity of Cell Shape  \\\n",
              "0                  5                        1                         1   \n",
              "1                  5                        4                         4   \n",
              "2                  3                        1                         1   \n",
              "3                  6                        8                         8   \n",
              "4                  4                        1                         1   \n",
              "..               ...                      ...                       ...   \n",
              "694                3                        1                         1   \n",
              "695                2                        1                         1   \n",
              "696                5                       10                        10   \n",
              "697                4                        8                         6   \n",
              "698                4                        8                         8   \n",
              "\n",
              "     Marginal Adhesion  Single Epithelial Cell Size  Bare Nuclei  \\\n",
              "0                    1                            2            0   \n",
              "1                    5                            7            1   \n",
              "2                    1                            2            2   \n",
              "3                    1                            3            4   \n",
              "4                    3                            2            0   \n",
              "..                 ...                          ...          ...   \n",
              "694                  1                            3            2   \n",
              "695                  1                            2            0   \n",
              "696                  3                            7            3   \n",
              "697                  4                            3            4   \n",
              "698                  5                            4            5   \n",
              "\n",
              "     Bland Chromatin  Normal Nucleoli  Mitoses  Class  centroid  \n",
              "0                  3                1        1      0         3  \n",
              "1                  3                2        1      0         2  \n",
              "2                  3                1        1      0         1  \n",
              "3                  3                7        1      0         0  \n",
              "4                  3                1        1      0         3  \n",
              "..               ...              ...      ...    ...       ...  \n",
              "694                1                1        1      0         1  \n",
              "695                1                1        1      0         1  \n",
              "696                8               10        2      1         0  \n",
              "697               10                6        1      1         2  \n",
              "698               10                4        1      1         2  \n",
              "\n",
              "[699 rows x 11 columns]"
            ]
          },
          "execution_count": 347,
          "metadata": {},
          "output_type": "execute_result"
        }
      ],
      "source": [
        "data"
      ]
    },
    {
      "cell_type": "code",
      "execution_count": null,
      "metadata": {
        "id": "5HffJEAg_pYZ"
      },
      "outputs": [],
      "source": [
        "valid = 0\n",
        "for i,j in zip(data['centroid'],data['Class']):\n",
        "  if i == j:\n",
        "    valid += 1"
      ]
    },
    {
      "cell_type": "code",
      "execution_count": null,
      "metadata": {
        "id": "LqSMDBgCw_rs",
        "outputId": "40065f73-c8e0-45d1-c20c-6ae683de1479"
      },
      "outputs": [
        {
          "name": "stdout",
          "output_type": "stream",
          "text": [
            "1.0014306151645207\n"
          ]
        }
      ],
      "source": [
        "accuracy_labels = (valid / data.shape[0])*100\n",
        "print(accuracy_labels)"
      ]
    },
    {
      "cell_type": "code",
      "execution_count": null,
      "metadata": {
        "colab": {
          "base_uri": "https://localhost:8080/"
        },
        "id": "7UyvpceqfGsx",
        "outputId": "9e8da40f-387e-49b8-972e-fec15c681bad"
      },
      "outputs": [
        {
          "name": "stdout",
          "output_type": "stream",
          "text": [
            "summation(without class labels) :  6179.026367000532\n",
            "summation(with class labels)  :  7102.549108332421\n"
          ]
        }
      ],
      "source": [
        "print(\"summation(without class labels) : \",sum(without_class_labels_error))\n",
        "print(\"summation(with class labels)  : \",sum(with_class_labels_error))"
      ]
    },
    {
      "cell_type": "markdown",
      "metadata": {
        "id": "icid0l5Kw_rs"
      },
      "source": [
        "# 1.3 Accuracy with and without labels"
      ]
    },
    {
      "cell_type": "code",
      "execution_count": null,
      "metadata": {
        "id": "Lq2kU9KHw_rt",
        "outputId": "a4b5d123-1e7c-42b4-92a3-2c4d9f7218b2"
      },
      "outputs": [
        {
          "name": "stdout",
          "output_type": "stream",
          "text": [
            "accuracy (without class label ):  50.21459227467812\n",
            "accuracy (with class labels ):  1.0014306151645207\n"
          ]
        }
      ],
      "source": [
        "print(\"accuracy (without class label ): \",accuracy_without_labels)\n",
        "print(\"accuracy (with class labels ): \", accuracy_labels)"
      ]
    },
    {
      "cell_type": "markdown",
      "metadata": {
        "id": "A6zrQ1Hkw_rt"
      },
      "source": [
        "# 1.4(a) Running KNN for several different centres"
      ]
    },
    {
      "cell_type": "code",
      "execution_count": null,
      "metadata": {
        "colab": {
          "base_uri": "https://localhost:8080/"
        },
        "id": "399opPP-ps4r",
        "outputId": "389f23e6-6bf2-4e40-93c9-205e80a0f7a5"
      },
      "outputs": [
        {
          "data": {
            "text/plain": [
              "[46215.180644651606,\n",
              " 46215.180644651606,\n",
              " 46224.21352864208,\n",
              " 46215.180644651606,\n",
              " 46224.21352864208,\n",
              " 46215.180644651606,\n",
              " 46224.21352864208,\n",
              " 46224.21352864208,\n",
              " 46215.180644651606,\n",
              " 46215.180644651606,\n",
              " 46215.180644651606,\n",
              " 46215.180644651606,\n",
              " 46224.21352864208,\n",
              " 46224.21352864208,\n",
              " 46215.180644651606,\n",
              " 46224.21352864208,\n",
              " 46215.180644651606,\n",
              " 46215.180644651606]"
            ]
          },
          "execution_count": 352,
          "metadata": {},
          "output_type": "execute_result"
        }
      ],
      "source": [
        "K_Values = [2,4,6,8,10,12, 20, 30, 60, 100, 150,180,190,195,  200, 210, 235, 250]\n",
        "\n",
        "classify = []\n",
        "errors = []\n",
        "centroids = []\n",
        "accuracy = []\n",
        "\n",
        "for i in range(len(K_Values)):\n",
        "\n",
        "    np.random.seed(i)\n",
        "\n",
        "    iter_class, iter_error, iter_centroid = KNN(data,2)\n",
        "    valid = 0\n",
        "    for i,j in zip(data['centroid'],data['Class']):\n",
        "      if i == j:\n",
        "        valid += 1\n",
        "    accuracy_labels = (valid / data.shape[0])*100\n",
        "    classify.append(iter_class)\n",
        "    errors.append(sum(iter_error))\n",
        "    centroids.append(iter_centroid)\n",
        "    accuracy.append(accuracy_labels)\n",
        "errors"
      ]
    },
    {
      "cell_type": "code",
      "execution_count": null,
      "metadata": {
        "id": "JBtcHmzDw_rt",
        "outputId": "171b0952-d8fa-4103-ca23-f53e50325a54"
      },
      "outputs": [
        {
          "data": {
            "text/plain": [
              "[7.439198855507868,\n",
              " 7.439198855507868,\n",
              " 92.84692417739629,\n",
              " 7.439198855507868,\n",
              " 7.1530758226037205,\n",
              " 7.439198855507868,\n",
              " 7.1530758226037205,\n",
              " 92.84692417739629,\n",
              " 7.439198855507868,\n",
              " 92.56080114449213,\n",
              " 92.56080114449213,\n",
              " 92.56080114449213,\n",
              " 92.84692417739629,\n",
              " 7.1530758226037205,\n",
              " 7.439198855507868,\n",
              " 7.1530758226037205,\n",
              " 92.56080114449213,\n",
              " 92.56080114449213]"
            ]
          },
          "execution_count": 353,
          "metadata": {},
          "output_type": "execute_result"
        }
      ],
      "source": [
        "accuracy"
      ]
    },
    {
      "cell_type": "markdown",
      "metadata": {
        "id": "zG97mLxslLmL"
      },
      "source": [
        "# 1.4(b) Explain\n",
        "\n",
        "### There is no much change in the above error values, but there is some change in accuracy values,   to select the value of K that fits your data, we run the KNN algorithm multiple times with different K values using accuracy as a performance indicator. If the value of accuracy changes proportionally to the change in K, then it�s a good candidate for our K value.\n",
        "\n",
        "The number of features are needed to choose the best value for K,  and also the sample size per group. when there are more and more features, groups in  data , selection should be large to find a relevant value of K.\n",
        "\n",
        "With decreasing K to 1 predictions tend to be less stable. The accuracy diminishes and also F-Measure becomes increasedly sensitive to outliers. Increase the value of K until the F-Measure value is higher than the threshold.Consider K value on the sample class distribution for better understanding. If too many data points in one group, then increase K and viceversa. "
      ]
    },
    {
      "cell_type": "markdown",
      "metadata": {
        "id": "Rh9A0o3tw_ru"
      },
      "source": [
        "# 1.5 Getting a better result using Supervised Model\n",
        "\n",
        "\n",
        "### Conclusion -- It can be seen that using a supervised algorithm like SVC we get enhanced results as compared to the unsupervised one like KNN."
      ]
    },
    {
      "cell_type": "code",
      "execution_count": null,
      "metadata": {
        "colab": {
          "base_uri": "https://localhost:8080/"
        },
        "id": "tDQWCwTDFyaz",
        "outputId": "a1d15746-2129-4231-c8e0-f736d4f1f65f"
      },
      "outputs": [
        {
          "name": "stdout",
          "output_type": "stream",
          "text": [
            "Accuracy using SVC model :  98.28571428571429\n"
          ]
        }
      ],
      "source": [
        "from sklearn.svm import SVC\n",
        "svc = SVC(probability=True)\n",
        "x_train, x_test, y_train, y_test = train_test_split(data[col],data['Class'], random_state=4)\n",
        "\n",
        "svc.fit(x_train,y_train)\n",
        "\n",
        "y_pred = svc.predict(x_test)\n",
        "accuracy = metrics.accuracy_score(y_test, y_pred)\n",
        "accuracy_percentage = 100 * accuracy\n",
        "print(\"Accuracy using SVC model : \", accuracy_percentage)"
      ]
    },
    {
      "cell_type": "code",
      "execution_count": null,
      "metadata": {
        "id": "sgZdVCUgw_ru",
        "outputId": "62119d70-81cd-48e4-a3d8-47ac070033fe"
      },
      "outputs": [
        {
          "name": "stdout",
          "output_type": "stream",
          "text": [
            "Accuracy using Logistic Regression model :  96.0\n"
          ]
        }
      ],
      "source": [
        "logreg= LogisticRegression()\n",
        "\n",
        "logreg.fit(x_train, y_train)\n",
        "\n",
        "y_pred_logreg = logreg.predict(x_test)\n",
        "accuracy = metrics.accuracy_score(y_test, y_pred_logreg)\n",
        "accuracy_percentage = 100 * accuracy\n",
        "print(\"Accuracy using Logistic Regression model : \", accuracy_percentage)"
      ]
    },
    {
      "cell_type": "code",
      "execution_count": null,
      "metadata": {
        "id": "QZbLcnR-l8s4"
      },
      "outputs": [],
      "source": [
        "####  references : https://towardsdatascience.com/build-knn-from-scratch-python-7b714c47631a#:~:text=Building%20kNN%20from%20scratch%20using%20Python%201%20Step,Nearest%20Neighbors%20...%204%20Step%204%3A%20Predictions%20\n",
        "### https://anderfernandez.com/en/blog/kmeans-algorithm-python/ ;\n",
        "#### https://analyticsarora.com/k-means-for-beginners-how-to-build-from-scratch-in-python/\n"
      ]
    },
    {
      "cell_type": "code",
      "execution_count": null,
      "metadata": {
        "id": "VlIUg-Ekw_rv"
      },
      "outputs": [],
      "source": []
    },
    {
      "cell_type": "markdown",
      "source": [
        "# Question 2"
      ],
      "metadata": {
        "id": "Q3Xna3FYxMJd"
      }
    },
    {
      "cell_type": "markdown",
      "source": [
        "references:\n",
        "\n",
        "https://www.youtube.com/watch?v=74QFmqHOQcU\n",
        "\n",
        "https://www.freecodecamp.org/news/an-illustrative-introduction-to-fishers-linear-discriminant-9484efee15ac/\n",
        "\n",
        "https://www.youtube.com/watch?v=hGKt0yy9q_E"
      ],
      "metadata": {
        "id": "ZvkNLAhxxQqe"
      }
    },
    {
      "cell_type": "code",
      "execution_count": null,
      "metadata": {
        "id": "yXmEZl6LDUbQ"
      },
      "outputs": [],
      "source": [
        "import numpy as np\n",
        "import matplotlib.pyplot as plt\n",
        "import matplotlib.cm as cm\n",
        "import tensorflow as tf\n",
        "from mpl_toolkits.mplot3d import Axes3D\n",
        "from numpy.linalg import eig, inv, pinv\n"
      ]
    },
    {
      "cell_type": "markdown",
      "metadata": {
        "id": "VdtpVkd9bu43"
      },
      "source": [
        "**DataSet Preparation**"
      ]
    },
    {
      "cell_type": "code",
      "execution_count": null,
      "metadata": {
        "id": "EeS5tmoVDmVz"
      },
      "outputs": [],
      "source": [
        "class Preprocessing:\n",
        "  def __init__(self, processed_data, final, classes=None):\n",
        "    self.classes = classes\n",
        "    if self.classes is None: \n",
        "      self.classes = np.unique(final)\n",
        "    #self.number_of_classes = len(self.classes)\n",
        "    tmp = {}\n",
        "    for x, y in zip(processed_data, final):\n",
        "        if y not in self.classes:\n",
        "          continue\n",
        "        if y not in tmp:\n",
        "            tmp[y] = [x.flatten()]\n",
        "        else:\n",
        "            tmp[y].append(x.flatten())\n",
        "    for i in self.classes:\n",
        "        tmp[i] = np.asarray(tmp[i])\n",
        "    self.processed_data = tmp\n",
        "\n",
        "  def data_ret(self):\n",
        "    list1 = []\n",
        "    names = []\n",
        "    for key in self.processed_data:\n",
        "      value=self.processed_data[key]\n",
        "      list1.extend(value)\n",
        "      temp=value.shape[0] * [key]\n",
        "      names.extend(temp)\n",
        "    list1 = np.asarray(list1)\n",
        "    names = np.asarray(names)\n",
        "    return list1, names\n",
        " \n",
        "  def dict_data(self):\n",
        "    return self.processed_data\n",
        "\n"
      ]
    },
    {
      "cell_type": "markdown",
      "metadata": {
        "id": "ZPmrBi8RaSun"
      },
      "source": [
        "**Model Creation**"
      ]
    },
    {
      "cell_type": "code",
      "execution_count": null,
      "metadata": {
        "id": "sCv47pbyDm2p"
      },
      "outputs": [],
      "source": [
        "class Build:\n",
        "  def __init__(self, req_size):\n",
        "    self.req_size = req_size           #size of required dimensionality\n",
        "    self.W = None\n",
        "    self.gaussian_me=None\n",
        "    self.gaussian_cov=None\n",
        "    self.priors = None\n",
        "\n",
        "  def gaussian(self, X):               #Gaussian function implementation as given in the question\n",
        "    means = {}\n",
        "    covariance = {}\n",
        "    priors = {}  # p(Ck)\n",
        "    for class_id in X:\n",
        "      values=X[class_id]\n",
        "      proj = np.dot(values, self.W)\n",
        "      means[class_id] = np.mean(proj, axis=0)\n",
        "      covariance[class_id] = np.cov(proj, rowvar=False)\n",
        "      priors[class_id] = values.shape[0] / self.N\n",
        "    return means, covariance, priors\n",
        "\n",
        "\n",
        "  def gaussian_distribution(self, x, u, cov):                                                 #Gaussian distribution implementation as given in question\n",
        "    scalar = (1. / ((2 * np.pi) ** (x.shape[0] / 2.))) * (1 / np.sqrt(np.linalg.det(cov)))\n",
        "    x_sub_u = np.subtract(x, u)\n",
        "    return scalar * np.exp(-np.dot(np.dot(x_sub_u, inv(cov)), x_sub_u.T) / 2.)\n",
        "\n",
        "\n",
        "  def fit(self,X):                                 #fitting function in build\n",
        "    k_mea = {}\n",
        "    for class_i, data_i in X.items():\n",
        "      k_mea[class_i] = np.mean(data_i, axis=0)\n",
        "    xyz = []\n",
        "    #print('check1')\n",
        "    for of_i in k_mea:\n",
        "      m=k_mea[of_i]\n",
        "      diff = np.subtract(X[of_i],m)\n",
        "      a=np.transpose(diff)\n",
        "      b=np.dot(a, diff)\n",
        "      xyz.append(b)\n",
        "    xyz = np.asarray(xyz)\n",
        "    #print('check2')\n",
        "    wei_s = np.sum(xyz, axis=0) \n",
        "    abc = {}\n",
        "    tally = 0\n",
        "\n",
        "    for i in X:\n",
        "      value=X[i]\n",
        "      abc[i] = value.shape[0]\n",
        "      tally =tally+np.sum(value, axis=0)\n",
        "    #print('check2')\n",
        "    q=list(abc.values())\n",
        "    self.N = sum(q)\n",
        "    m = tally/self.N\n",
        "    list_s = []\n",
        "    for cls in k_mea:\n",
        "      i_m=k_mea[cls]\n",
        "      dif = i_m - m\n",
        "      o=np.outer(dif, dif.T)\n",
        "      list_s.append(np.multiply(abc[cls], o))   \n",
        "    #print('check3')      \n",
        "    list_s = np.sum(list_s, axis=0)\n",
        "\n",
        "    abc = np.dot(pinv(wei_s), list_s)\n",
        "    ei_val, ei_vec = eig(abc)\n",
        "    li_eig=[]\n",
        "    for i in range(len(ei_val)):\n",
        "      li_eig.append((ei_val[i], ei_vec[:, i]) )\n",
        "    li_eig = sorted(li_eig, key=lambda x: x[0], reverse=True)\n",
        "    #print('check4')\n",
        "    p=[]\n",
        "    for i in range(self.req_size):\n",
        "      p.append(li_eig[i][1])\n",
        "    self.W = np.array(p)\n",
        "    self.W = np.asarray(self.W).T\n",
        "    self.gaussian_me, self.gaussian_cov, self.priors = self.gaussian(X)\n",
        "\n",
        "  def eval(self, X, y):                #eval function implementation to find accuracy, prediction of the model \n",
        "    p = self.project(X)\n",
        "    proj = np.dot(X, self.W)\n",
        "    #print('check1')\n",
        "    list1 = []\n",
        "    cla=list(self.gaussian_me.keys())\n",
        "    cla.sort()\n",
        "    list1 = []\n",
        "    #print('check2')\n",
        "    for x in p:\n",
        "        rec = []\n",
        "        for c in cla:\n",
        "            res = self.priors[c] * self.gaussian_distribution(x, self.gaussian_me[c], self.gaussian_cov[c])\n",
        "            rec.append(res)\n",
        "        list1.append(rec)\n",
        "    #print('check3')\n",
        "    list1 = np.asarray(list1)\n",
        "    #print(list1)\n",
        "    guess = np.argmax(list1, axis=1)\n",
        "    #print('check4')\n",
        "    l=len(y)\n",
        "    a=np.sum(guess == y) / l\n",
        "    return a, guess, p\n",
        "\n",
        "  def project(self, X):\n",
        "      return np.dot(X, self.W)"
      ]
    },
    {
      "cell_type": "markdown",
      "metadata": {
        "id": "UHlpqurkaYaQ"
      },
      "source": [
        "**Train & Test Data Split**"
      ]
    },
    {
      "cell_type": "code",
      "execution_count": null,
      "metadata": {
        "id": "DkLEutYODna7"
      },
      "outputs": [],
      "source": [
        "data = tf.keras.datasets.mnist\n",
        "(x_train, y_train), (x_test, y_test) = data.load_data()\n",
        "x_train, x_test = x_train / 255.0, x_test / 255.0\n",
        "train_c = Preprocessing(x_train, y_train)\n",
        "#print(train_c)\n",
        "test_c = Preprocessing(x_test, y_test)\n",
        "#print(test_c)\n",
        "y_label = y_test\n"
      ]
    },
    {
      "cell_type": "markdown",
      "metadata": {
        "id": "cF98Snljaho-"
      },
      "source": [
        "**Dimension 2(D'=2) Build**"
      ]
    },
    {
      "cell_type": "code",
      "execution_count": null,
      "metadata": {
        "colab": {
          "base_uri": "https://localhost:8080/"
        },
        "id": "tnw0lPKfDnnm",
        "outputId": "3eab0cc2-8901-4144-f195-b421fc93b43e"
      },
      "outputs": [
        {
          "name": "stdout",
          "output_type": "stream",
          "text": [
            "Accuracy for Dimesion=2 is0.565\n"
          ]
        }
      ],
      "source": [
        "clf = Build(2)\n",
        "clf.fit(train_c.dict_data())\n",
        "\n",
        "x_test, y_test = test_c.data_ret()\n",
        "#print('wege')\n",
        "accuracy, prediction, projection = clf.eval(x_test, y_test)\n",
        "print(\"Accuracy for Dimesion=2 is\" +str(accuracy))"
      ]
    },
    {
      "cell_type": "markdown",
      "metadata": {
        "id": "q_p6PsoLavI9"
      },
      "source": [
        "**2D Plot of D'=2**"
      ]
    },
    {
      "cell_type": "code",
      "execution_count": null,
      "metadata": {
        "colab": {
          "base_uri": "https://localhost:8080/",
          "height": 518
        },
        "id": "vVTgpSz2Dny5",
        "outputId": "1e7ec6bd-bf68-42a5-b0f5-8c7a12b79a24"
      },
      "outputs": [
        {
          "name": "stderr",
          "output_type": "stream",
          "text": [
            "/usr/local/lib/python3.7/dist-packages/matplotlib/collections.py:153: ComplexWarning: Casting complex values to real discards the imaginary part\n",
            "  offsets = np.asanyarray(offsets, float)\n"
          ]
        },
        {
          "data": {
            "image/png": "[encoded data removed]",
            "text/plain": [
              "<Figure size 864x576 with 1 Axes>"
            ]
          },
          "metadata": {
            "needs_background": "light"
          },
          "output_type": "display_data"
        }
      ],
      "source": [
        "cla = np.unique(y_test)\n",
        "li_cl=np.linspace(0, 1, len(cla))\n",
        "clr = cm.rainbow(li_cl)\n",
        "cl_la={}\n",
        "for i in range(len(cla)):\n",
        "  cl_la[cla[i]]=clr[i]\n",
        "plt.figure(figsize=(12,8))\n",
        "for i, pred in zip(projection, prediction):\n",
        "    plt.scatter(i[0], i[1], color=cl_la[pred])\n",
        "plt.show()"
      ]
    },
    {
      "cell_type": "markdown",
      "metadata": {
        "id": "CIAFya1JlS-A"
      },
      "source": [
        "The above figure is 2D plot of the prediction where different rainbow colours represent different classses. It is the graph after applying Fisher Dicriminant because of which the overlapping of different classes' points reduces"
      ]
    },
    {
      "cell_type": "markdown",
      "metadata": {
        "id": "rM56WG1GZkcu"
      },
      "source": [
        " **3-Dimension Figure Plot for D'=3**\n"
      ]
    },
    {
      "cell_type": "code",
      "execution_count": null,
      "metadata": {
        "colab": {
          "base_uri": "https://localhost:8080/",
          "height": 466
        },
        "id": "w8aSs_eXDn97",
        "outputId": "e1d4cd5f-4996-4b77-83af-65837ca8da7b"
      },
      "outputs": [
        {
          "data": {
            "image/png": "[encoded data removed]",
            "text/plain": [
              "<Figure size 864x576 with 1 Axes>"
            ]
          },
          "metadata": {
            "needs_background": "light"
          },
          "output_type": "display_data"
        }
      ],
      "source": [
        "fig = plt.figure(figsize=(12,8))\n",
        "pl_3 = fig.add_subplot(111, projection='3d')\n",
        "for i in cla:\n",
        "  val= np.random.multivariate_normal(clf.gaussian_me[i].real, clf.gaussian_cov[i].real, size=150)\n",
        "  x_cor,y_cor=np.meshgrid(val.T[0], val.T[1])\n",
        "  p=[]\n",
        "  for cor in zip(np.ravel(x_cor), np.ravel(y_cor)):\n",
        "    p.append(clf.gaussian_distribution(np.array(cor), clf.gaussian_me[i].real, clf.gaussian_cov[i].real))\n",
        "  cor = np.array(p)\n",
        "  Z = cor.reshape(x_cor.shape)\n",
        "  pl_3.plot_surface(x_cor, y_cor, Z, rstride=1, cstride=1, color=cl_la[i], linewidth=0,antialiased=False)\n",
        "plt.show()"
      ]
    },
    {
      "cell_type": "markdown",
      "metadata": {
        "id": "5kHd1BjVkofd"
      },
      "source": [
        "We can see that the different colors in the above graph represents different classes in the 3D graph where different colors start at different heights and coordinfates and with different size of the curves"
      ]
    },
    {
      "cell_type": "markdown",
      "metadata": {
        "id": "WdwQJkDFa6qn"
      },
      "source": [
        "**Dimension 3(D'=3) Build**"
      ]
    },
    {
      "cell_type": "code",
      "execution_count": null,
      "metadata": {
        "colab": {
          "base_uri": "https://localhost:8080/"
        },
        "id": "mpkfSQPiDrzW",
        "outputId": "8219b397-6222-442f-8d57-376a5a5510c4"
      },
      "outputs": [
        {
          "name": "stdout",
          "output_type": "stream",
          "text": [
            "Accuracy for Dimesion 3 is 0.7424\n"
          ]
        }
      ],
      "source": [
        "clf = Build(3)\n",
        "clf.fit(train_c.dict_data())\n",
        "x_test, y_test = test_c.data_ret()\n",
        "#print('wege')\n",
        "accuracy, prediction, projection = clf.eval(x_test, y_test)\n",
        "print(\"Accuracy for Dimesion 3 is \" +str(accuracy))"
      ]
    },
    {
      "cell_type": "markdown",
      "metadata": {
        "id": "01h0ZRE4bC12"
      },
      "source": [
        "**Plot for D'=3** "
      ]
    },
    {
      "cell_type": "code",
      "execution_count": null,
      "metadata": {
        "colab": {
          "base_uri": "https://localhost:8080/",
          "height": 466
        },
        "id": "6eH1TD10DsA3",
        "outputId": "b3822e4c-9715-456c-b873-dd5f2214b0da"
      },
      "outputs": [
        {
          "data": {
            "image/png": "[encoded data removed]",
            "text/plain": [
              "<Figure size 864x576 with 1 Axes>"
            ]
          },
          "metadata": {
            "needs_background": "light"
          },
          "output_type": "display_data"
        }
      ],
      "source": [
        "cla = np.unique(y_test)\n",
        "li_cl=np.linspace(0, 1, len(cla))\n",
        "clr = cm.rainbow(li_cl)\n",
        "cl_la={}\n",
        "for i in range(len(cla)):\n",
        "  cl_la[cla[i]]=clr[i]\n",
        "fig=plt.figure(figsize=(12,8))\n",
        "axis=fig.add_subplot(111,projection='3d')\n",
        "for pll, p in zip(projection, prediction):\n",
        "    axis.scatter(pll[0].real, pll[1].real, pll[2].real, color=cl_la[p])\n",
        "plt.show()\n"
      ]
    },
    {
      "cell_type": "markdown",
      "metadata": {
        "id": "nGKRVi7tl224"
      },
      "source": [
        "in the above graph differnt colours represent different classes present in the dataset after it is converted in 3D data with Fichetr Discriminant"
      ]
    },
    {
      "cell_type": "markdown",
      "source": [
        "\n",
        "\n",
        "```\n",
        "# This is formatted as code\n",
        "```\n",
        "\n",
        "# Question 3"
      ],
      "metadata": {
        "id": "6GGAw45Ry5Ir"
      }
    },
    {
      "cell_type": "code",
      "source": [
        "import numpy as np\n",
        "from numpy.matlib import repmat as rpmat\n",
        "import matplotlib.pyplot as plt"
      ],
      "metadata": {
        "id": "axi01QFVy0a_"
      },
      "execution_count": 1,
      "outputs": []
    },
    {
      "cell_type": "code",
      "source": [
        "def toydata(N,OFFSET):\n",
        "    elements = np.random.randn(N,2)\n",
        "    #now converting second half of the elements into normal distrubution with OFFSET as mean\n",
        "    elements[int(N/2):,:] +=OFFSET\n",
        "    classes = np.ones(N)\n",
        "    # as stated, changing samples with OFFSET to class 2\n",
        "    classes[int(N/2):]*=2\n",
        "    shuffle = np.random.permutation(N)\n",
        "    elements = elements[shuffle,:]\n",
        "    classes = classes[shuffle]\n",
        "    return elements, classes"
      ],
      "metadata": {
        "id": "ebE6qT9Ky081"
      },
      "execution_count": 2,
      "outputs": []
    },
    {
      "cell_type": "code",
      "source": [
        "\n",
        "# def normal_dist_pdf(x,mu,sigma):\n",
        "#     return np.exp(-0.5*((x-mu)/sigma)**2)*(np.sqrt(2*np.pi)*sigma)\n",
        "def calculate_pdf(x,mean,sigma=1):\n",
        "    return np.exp(-0.5*np.power((x-mean)/sigma,2))/(np.sqrt(2*np.pi)*sigma)\n",
        "def computeybar(x,OFFSET):\n",
        "    shape = x.shape\n",
        "    ybar = np.zeros(shape[0])\n",
        "    pxy1 = calculate_pdf(x,0) #by defualt this function assume covariance is 1\n",
        "    pxy2 = calculate_pdf(x,OFFSET)\n",
        "    pxy1=pxy1[:,0]*pxy1[:,1]\n",
        "    pxy2=pxy2[:,0]*pxy2[:,1]\n",
        "    # as we have equal distribution of class 1 and class 2 in toydata function\n",
        "    py1 = 0.5\n",
        "    py2 = 0.5\n",
        "    py = (pxy1*py1)+(pxy2*py2)\n",
        "    py1x = (pxy1*py1/py)\n",
        "    py2x = (pxy2*py2/py)\n",
        "    \n",
        "    ybar = py1x+py2x*2\n",
        "    return ybar\n",
        "\n"
      ],
      "metadata": {
        "id": "G1RQvzQGy1cq"
      },
      "execution_count": 3,
      "outputs": []
    },
    {
      "cell_type": "code",
      "source": [
        "def l2distance(x, z=None):\n",
        "    # lets define a function that defines l2 regulization\n",
        "    if z is not None:\n",
        "        n, d = x.shape\n",
        "        m, _ = z.shape\n",
        "        s1 = np.sum(np.power(x, 2), axis=1).reshape(-1,1)\n",
        "        s2 = np.sum(np.power(z, 2), axis=1).reshape(1,-1)\n",
        "        D1 = -2 * np.dot(x, z.T) + rpmat(s1, 1, m)\n",
        "        delta = D1 + rpmat(s2, n, 1)\n",
        "        delta = np.sqrt(np.maximum(delta, 0))\n",
        "    else:\n",
        "        n, d = x.shape\n",
        "        s1 = np.sum(np.power(x, 2), axis=1).reshape(-1,1)\n",
        "        D1 = -2 * np.dot(x, x.T) + rpmat(s1, 1, n)\n",
        "        delta = D1 + rpmat(s1.T, n, 1)\n",
        "        np.fill_diagonal(delta, 0)\n",
        "        delta = np.sqrt(np.maximum(delta, 0))\n",
        "        \n",
        "    return delta"
      ],
      "metadata": {
        "id": "szYg3f1Ny1m2"
      },
      "execution_count": 4,
      "outputs": []
    },
    {
      "cell_type": "code",
      "source": [
        "def kernel(x,z,sigma):\n",
        "    return np.power(1+(np.power(l2distance(x,z),2) / (2 * (sigma)**2)),-4)\n",
        "def ridge(kernal,lmbda):\n",
        "    return kernal + lmbda * np.eye(kernal.shape[0], kernal.shape[1])\n",
        "def RidgeRegression(x,y,sigma=0.1,lmbda=0.01):\n",
        "    beta = np.linalg.solve(ridge(kernel(x, x,sigma), lmbda), y)\n",
        "    \n",
        "    fun = lambda Xt: np.dot(kernel(Xt, x,sigma), beta)\n",
        "    return fun\n",
        "# referred https://www.youtube.com/watch?v=WatqxWFhcZk to code"
      ],
      "metadata": {
        "id": "rqJdYUXPy1ur"
      },
      "execution_count": 5,
      "outputs": []
    },
    {
      "cell_type": "code",
      "source": [
        "def computehbar(x,sigma,lmbd,subsample_data,iteration,OFFSET):\n",
        "    length = x.shape[0]\n",
        "    hbar = np.zeros(length)\n",
        "    for avm in range(iteration):\n",
        "        x_t,y_t = toydata(subsample_data,OFFSET) #subsampling data from same population\n",
        "        ridge_model = RidgeRegression(x_t,y_t,sigma,lmbd)\n",
        "        hbar+=ridge_model(x)\n",
        "    hbar/=iteration\n",
        "    return hbar"
      ],
      "metadata": {
        "id": "tsq55ngty12R"
      },
      "execution_count": 6,
      "outputs": []
    },
    {
      "cell_type": "code",
      "source": [
        "def computevariance(x,sigma,lmbd,hbar,subsample_data,iterations,OFFSET):\n",
        "    length = x.shape[0]\n",
        "    variance = np.zeros(length)\n",
        "    for avm in range(iterations):\n",
        "        x_t, y_t = toydata(subsample_data,OFFSET)\n",
        "        ridge_model = RidgeRegression(x_t,y_t,sigma,lmbd)\n",
        "        variance += (ridge_model(x)-hbar)**2\n",
        "    return np.mean(variance)/iterations # as variance is mean((hbar-mean(hbar))^2)\n",
        "    "
      ],
      "metadata": {
        "id": "Bd_vgK6Wy18S"
      },
      "execution_count": 7,
      "outputs": []
    },
    {
      "cell_type": "code",
      "source": [
        "def computebiasvariance(OFFSET):\n",
        "    subsample = 10\n",
        "    N = 10000\n",
        "    iterations = 100\n",
        "    lmbdas = np.arange(-6, 0+0.5, 0.5)\n",
        "    sigma = 4 #kernal width\n",
        "\n",
        "    length = len(lmbdas)\n",
        "    final_bias = np.zeros(length)\n",
        "    final_variance = np.zeros(length)\n",
        "    total_mse = np.zeros(length)\n",
        "    final_noise = np.zeros(length)\n",
        "    bvn_sum = np.zeros(length)\n",
        "    for avm in range(length):\n",
        "        lmbda = 2 ** lmbdas[avm]\n",
        "        \n",
        "        x,y = toydata(N,OFFSET)\n",
        "        total = 0\n",
        "        for j in range(iterations):\n",
        "            x_t,y_t = toydata(subsample,OFFSET)\n",
        "            fsmall = RidgeRegression(x_t,y_t,sigma,lmbda)\n",
        "            total += np.mean((fsmall(x) - y) ** 2)\n",
        "        total /= iterations\n",
        "        \n",
        "        ybar = computeybar(x, OFFSET)\n",
        "        noise = np.mean((y-ybar) ** 2)\n",
        "        \n",
        "        hbar = computehbar(x,sigma, lmbda, subsample, iterations, OFFSET)\n",
        "        bias = np.mean((hbar-ybar) ** 2)\n",
        "        \n",
        "        variance = computevariance(x,sigma,lmbda,hbar, subsample, iterations, OFFSET)\n",
        "        \n",
        "        final_bias[avm] = bias\n",
        "        final_variance[avm] = variance\n",
        "        total_mse[avm] = total\n",
        "        final_noise[avm] = noise\n",
        "        bvn_sum[avm] = final_bias[avm]+final_variance[avm]+final_noise[avm]\n",
        "    plt.figure(figsize=(12,6))\n",
        "    plt.plot(final_bias[:length],c='r',linestyle='-',linewidth=2)\n",
        "    plt.plot(final_variance[:length],c='k', linestyle='-',linewidth=2)\n",
        "    plt.plot(final_noise[:length],c='g', linestyle='-',linewidth=2)\n",
        "    plt.plot(total_mse[:length],c='b', linestyle='-',linewidth=2)\n",
        "    plt.plot(bvn_sum[:length],c='k', linestyle='--',linewidth=2)\n",
        "\n",
        "    plt.legend([\"Bias\",\"Variance\",\"Noise\",\"Test error\",\"Bias+Var+Noise\"])\n",
        "    plt.xlabel(\"Regularization $\\lambda=2^x$\",fontsize=18)\n",
        "    plt.ylabel(\"Squared Error\",fontsize=18)\n",
        "    plt.xticks([i for i in range(length)],lmbdas)"
      ],
      "metadata": {
        "id": "sO7aymJXy2CP"
      },
      "execution_count": 8,
      "outputs": []
    },
    {
      "cell_type": "code",
      "source": [
        "computebiasvariance(2)"
      ],
      "metadata": {
        "colab": {
          "base_uri": "https://localhost:8080/",
          "height": 400
        },
        "id": "h58UEcrFy2IK",
        "outputId": "52c22d9f-ff7d-4e5f-929d-3d3409f57b2d"
      },
      "execution_count": 9,
      "outputs": [
        {
          "output_type": "display_data",
          "data": {
            "text/plain": [
              "<Figure size 864x432 with 1 Axes>"
            ],
            "image/png": "[encoded data removed]"
          },
          "metadata": {
            "needs_background": "light"
          }
        }
      ]
    },
    {
      "cell_type": "code",
      "source": [],
      "metadata": {
        "id": "uHCRQ6OZy2Nv"
      },
      "execution_count": null,
      "outputs": []
    },
    {
      "cell_type": "code",
      "source": [],
      "metadata": {
        "id": "UFlPWeSLy2Tj"
      },
      "execution_count": null,
      "outputs": []
    },
    {
      "cell_type": "code",
      "source": [],
      "metadata": {
        "id": "t80PDBbsy2ZJ"
      },
      "execution_count": null,
      "outputs": []
    },
    {
      "cell_type": "code",
      "source": [],
      "metadata": {
        "id": "dfR0p-Fqy2e7"
      },
      "execution_count": null,
      "outputs": []
    },
    {
      "cell_type": "code",
      "source": [],
      "metadata": {
        "id": "uEaAVBPQy21c"
      },
      "execution_count": null,
      "outputs": []
    }
  ],
  "metadata": {
    "colab": {
      "collapsed_sections": [],
      "provenance": []
    },
    "kernelspec": {
      "display_name": "Python 3 (ipykernel)",
      "language": "python",
      "name": "python3"
    },
    "language_info": {
      "codemirror_mode": {
        "name": "ipython",
        "version": 3
      },
      "file_extension": ".py",
      "mimetype": "text/x-python",
      "name": "python",
      "nbconvert_exporter": "python",
      "pygments_lexer": "ipython3",
      "version": "3.9.12"
    }
  },
  "nbformat": 4,
  "nbformat_minor": 0
}